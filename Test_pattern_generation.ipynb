{
  "nbformat": 4,
  "nbformat_minor": 0,
  "metadata": {
    "colab": {
      "provenance": []
    },
    "kernelspec": {
      "name": "python3",
      "display_name": "Python 3"
    },
    "language_info": {
      "name": "python"
    }
  },
  "cells": [
    {
      "cell_type": "code",
      "execution_count": 1,
      "metadata": {
        "id": "3Dj_Bz9NuM6f"
      },
      "outputs": [],
      "source": [
        "import matplotlib.pyplot as plt\n"
      ]
    },
    {
      "cell_type": "code",
      "source": [
        "plt.subplot(2,2,1)\n",
        "plt.plot([0,1,1,0])\n",
        "plt.subplot(2,2,2)\n",
        "plt.plot([0,1,0,0])\n",
        "plt.subplot(2,2,3)\n",
        "plt.plot([0,0,0,1])\n",
        "plt.subplot(2,2,4)\n",
        "plt.plot([1,0,0,0])\n",
        "plt.show()"
      ],
      "metadata": {
        "colab": {
          "base_uri": "https://localhost:8080/",
          "height": 430
        },
        "id": "zPLZj3dnv5rp",
        "outputId": "56fb201e-4e21-4207-b655-c87b274a6512"
      },
      "execution_count": 8,
      "outputs": [
        {
          "output_type": "display_data",
          "data": {
            "text/plain": [
              "<Figure size 640x480 with 4 Axes>"
            ],
            "image/png": "[encoded data removed]"
          },
          "metadata": {}
        }
      ]
    },
    {
      "cell_type": "markdown",
      "source": [
        "### Main code"
      ],
      "metadata": {
        "id": "Qz0CoRyEAKlQ"
      }
    },
    {
      "cell_type": "markdown",
      "source": [
        "Input files"
      ],
      "metadata": {
        "id": "dCgZ2hnjBmyN"
      }
    },
    {
      "cell_type": "code",
      "source": [
        "#Path to input files\n",
        "\n",
        "file_circuit = \"./circuit\"\n",
        "file_fault = \"./fault\""
      ],
      "metadata": {
        "id": "vT5LlJjjxsj8"
      },
      "execution_count": 72,
      "outputs": []
    },
    {
      "cell_type": "markdown",
      "source": [
        "Function definitions"
      ],
      "metadata": {
        "id": "n0YeKRIKBjun"
      }
    },
    {
      "cell_type": "code",
      "source": [
        "#Read fault file to get the condition to check for fault\n",
        "\n",
        "def faults(file_fault):\n",
        "    l=[]\n",
        "    try:\n",
        "        f = open(file_fault, 'r')\n",
        "        for line in f.readlines():\n",
        "            l.append(line.strip())\n",
        "\n",
        "        fault_at = l[0].split('=')[1].strip()         # net where fault is supposed to have occured\n",
        "        fault_type = l[1].split('=')[1].strip()       # type of Stuck At fault at the net\n",
        "\n",
        "        return (fault_at, fault_type)\n",
        "\n",
        "    except IOError:\n",
        "        print(\"Could not open file\")\n",
        "\n",
        "    finally:\n",
        "        f.close()"
      ],
      "metadata": {
        "id": "tdIGqoKDxypf"
      },
      "execution_count": 73,
      "outputs": []
    },
    {
      "cell_type": "code",
      "source": [
        "#Read the circuit file and print its contents\n",
        "\n",
        "def circuits(file_circuit):\n",
        "    try:\n",
        "        with open(file_circuit, \"r\") as file:\n",
        "          file_content = file.read()\n",
        "          # file_content = file_content.replace(\" \", \"\")\n",
        "          print(file_content)\n",
        "\n",
        "    except IOError:\n",
        "        print(\"Could not open file\")\n",
        "\n",
        "    finally:\n",
        "        file.close()"
      ],
      "metadata": {
        "id": "J2U5U_hWyK_H"
      },
      "execution_count": 74,
      "outputs": []
    },
    {
      "cell_type": "code",
      "source": [
        "#Forward pass to get the actual output for a given input vector\n",
        "\n",
        "def actual_output(A, B, C, D):\n",
        "  inputs = [A, B, C, D]\n",
        "  exec(file_content)\n",
        "  binary_inputs = [bin(i)[2:] for i in inputs]\n",
        "  print(\"Inputs:\", binary_inputs)\n",
        "  print(bin(Z & 1)[2:])"
      ],
      "metadata": {
        "id": "Uj9-tTYq-sqE"
      },
      "execution_count": 75,
      "outputs": []
    },
    {
      "cell_type": "markdown",
      "source": [
        "Main program"
      ],
      "metadata": {
        "id": "--3U00tWBrzJ"
      }
    },
    {
      "cell_type": "code",
      "source": [
        "# initializing the input vector\n",
        "A,B,C,D = 0,0,0,1\n",
        "\n",
        "# function calls\n",
        "\n",
        "fault_at, fault_type = faults(file_fault)\n",
        "circuits(file_circuit)\n",
        "actual_output(A, B, C, D)\n"
      ],
      "metadata": {
        "colab": {
          "base_uri": "https://localhost:8080/"
        },
        "id": "BSCnWckUyQVB",
        "outputId": "6f240948-63db-427b-8210-f2cf31b35981"
      },
      "execution_count": 76,
      "outputs": [
        {
          "output_type": "stream",
          "name": "stdout",
          "text": [
            "net_e = A & B\n",
            "net_f = C | D\n",
            "net_g = ~ net_f\n",
            "Z = net_g ^ net_e\n",
            "\n",
            "Inputs: ['0', '0', '0', '1']\n",
            "0\n"
          ]
        }
      ]
    },
    {
      "cell_type": "markdown",
      "source": [
        "### Trial"
      ],
      "metadata": {
        "id": "d6b3jBKpAFx9"
      }
    },
    {
      "cell_type": "code",
      "source": [
        "with open(file_circuit, \"r\") as file:\n",
        "    file_content = file.read()\n",
        "    # file_content = file_content.replace(\" \", \"\")\n",
        "    print(file_content)\n",
        "\n",
        "exec(file_content)\n",
        "print(net_e, net_f, net_g, Z)"
      ],
      "metadata": {
        "colab": {
          "base_uri": "https://localhost:8080/"
        },
        "id": "grAJLFVOz6yJ",
        "outputId": "c8cf1a0c-e9f0-46bd-8ac0-648325301ebd"
      },
      "execution_count": 63,
      "outputs": [
        {
          "output_type": "stream",
          "name": "stdout",
          "text": [
            "net_e = A & B\n",
            "net_f = C | D\n",
            "net_g = ~ net_f\n",
            "Z = net_g ^ net_e\n",
            "\n",
            "0 1 -2 -2\n"
          ]
        }
      ]
    },
    {
      "cell_type": "code",
      "source": [
        "inputs = [A, B, C, D]\n",
        "binary_inputs = [bin(i)[2:] for i in inputs]\n",
        "# binary_outputs = [bin(Z & 1)[2:] for Z in [net_e, net_f, net_g, Z]]\n",
        "\n",
        "print(\"Inputs:\", binary_inputs)\n",
        "# print(\"Outputs:\", binary_outputs)\n",
        "print(bin(Z & 1)[2:])"
      ],
      "metadata": {
        "colab": {
          "base_uri": "https://localhost:8080/"
        },
        "id": "P7H9G-Rp9h5M",
        "outputId": "2f09f595-ad30-4dec-9646-23b01108e562"
      },
      "execution_count": 64,
      "outputs": [
        {
          "output_type": "stream",
          "name": "stdout",
          "text": [
            "Inputs: ['0', '0', '0', '1']\n",
            "0\n"
          ]
        }
      ]
    },
    {
      "cell_type": "code",
      "source": [
        "# if fault_type == 'SA0':\n",
        "#     # fault_at = 1\n",
        "#     pass\n",
        "# elif fault_type == 'SA1':\n",
        "#     # fault_at = 0\n",
        "#     pass\n",
        "# else:\n",
        "#     print(\"No fault detected\")"
      ],
      "metadata": {
        "id": "UjHdlhSt-pk4"
      },
      "execution_count": null,
      "outputs": []
    }
  ]
}